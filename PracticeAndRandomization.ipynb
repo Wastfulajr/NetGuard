{
  "nbformat": 4,
  "nbformat_minor": 0,
  "metadata": {
    "colab": {
      "provenance": [],
      "collapsed_sections": [
        "i8Allh4Cdzx7"
      ],
      "machine_shape": "hm",
      "include_colab_link": true
    },
    "kernelspec": {
      "name": "python3",
      "display_name": "Python 3"
    },
    "language_info": {
      "name": "python"
    }
  },
  "cells": [
    {
      "cell_type": "markdown",
      "metadata": {
        "id": "view-in-github",
        "colab_type": "text"
      },
      "source": [
        "<a href=\"https://colab.research.google.com/github/Wastfulajr/NetGuard/blob/Michael/PracticeAndRandomization.ipynb\" target=\"_parent\"><img src=\"https://colab.research.google.com/assets/colab-badge.svg\" alt=\"Open In Colab\"/></a>"
      ]
    },
    {
      "cell_type": "markdown",
      "source": [
        "# Data initialization"
      ],
      "metadata": {
        "id": "jnWu_WiNdnua"
      }
    },
    {
      "cell_type": "code",
      "execution_count": 1,
      "metadata": {
        "colab": {
          "base_uri": "https://localhost:8080/"
        },
        "id": "nKnTgaLEc9OX",
        "outputId": "f899c5c3-7dfa-463c-8f05-d0ff158d8334"
      },
      "outputs": [
        {
          "output_type": "stream",
          "name": "stderr",
          "text": [
            "/tmp/ipython-input-4080956491.py:16: DtypeWarning: Columns (0,1,3,6,84) have mixed types. Specify dtype option on import or set low_memory=False.\n",
            "  dfs.append(pd.read_csv(f, encoding='cp1252'))\n"
          ]
        }
      ],
      "source": [
        "import pandas as pd\n",
        "import requests\n",
        "import zipfile\n",
        "import numpy as np #working\n",
        "import io\n",
        "#This is me\n",
        "#THIS CODE JUST LOADS DATA INTO df\n",
        "# Download and load the dataset into one DataFrame\n",
        "dfs = []\n",
        "FILE_DOWNLOAD_URL = \"http://cicresearch.ca/CICDataset/CIC-IDS-2017/Dataset/CIC-IDS-2017/CSVs/GeneratedLabelledFlows.zip\"\n",
        "\n",
        "response = requests.get(FILE_DOWNLOAD_URL)\n",
        "with zipfile.ZipFile(io.BytesIO(response.content)) as z:\n",
        "    for file in z.namelist()[1:]:  # skip the first entry if it's a folder\n",
        "        with z.open(file) as f:\n",
        "            dfs.append(pd.read_csv(f, encoding='cp1252'))\n",
        "\n",
        "# Combine all CSVs into a single DataFrame\n",
        "df = pd.concat(dfs, ignore_index=True)\n",
        "\n",
        "\n"
      ]
    },
    {
      "cell_type": "markdown",
      "source": [
        "# Practice/ useful commands"
      ],
      "metadata": {
        "id": "i8Allh4Cdzx7"
      }
    },
    {
      "cell_type": "code",
      "source": [
        "print(df.shape)\n",
        "#should be around 3119345, 85) confirms dataset is loaded"
      ],
      "metadata": {
        "colab": {
          "base_uri": "https://localhost:8080/"
        },
        "id": "I615NU7InQ1p",
        "outputId": "84d19bdf-d5d6-4ea9-8071-97c709eb575c"
      },
      "execution_count": null,
      "outputs": [
        {
          "output_type": "stream",
          "name": "stdout",
          "text": [
            "(3119345, 85)\n"
          ]
        }
      ]
    },
    {
      "cell_type": "code",
      "source": [
        "#sorts by port and protocol together\n",
        "df_sorted = df.sort_values(by=[\" Destination Port\", \" Protocol\"], ascending=[False, False])\n",
        "print(\"\\nSorted dataset preview:\")\n",
        "print(df_sorted[[\" Destination Port\", \" Protocol\"]].head(10))"
      ],
      "metadata": {
        "colab": {
          "base_uri": "https://localhost:8080/"
        },
        "id": "gldBHnAEnWaH",
        "outputId": "e67fce28-fbef-45be-f937-38faa990f18d"
      },
      "execution_count": null,
      "outputs": [
        {
          "output_type": "stream",
          "name": "stdout",
          "text": [
            "\n",
            "Sorted dataset preview:\n",
            "         Destination Port  Protocol\n",
            "2352942           65535.0       6.0\n",
            "1936697           65534.0       6.0\n",
            "2036661           65534.0       6.0\n",
            "2229746           65534.0       6.0\n",
            "2413814           65534.0       6.0\n",
            "1692406           65533.0       6.0\n",
            "1936313           65533.0       6.0\n",
            "2036664           65533.0       6.0\n",
            "2305095           65533.0       6.0\n",
            "1695579           65532.0       6.0\n"
          ]
        }
      ]
    },
    {
      "cell_type": "code",
      "source": [
        "#finds unique numbers\n",
        "unique_ips = df[\" Protocol\"].unique()\n",
        "print(\"Unique Protocols:\")\n",
        "for ip in unique_ips:\n",
        "    print(ip)"
      ],
      "metadata": {
        "colab": {
          "base_uri": "https://localhost:8080/"
        },
        "id": "5NnvQTZ_qHfE",
        "outputId": "ec26b39a-f04a-4fb2-8887-1faaa8fb1a17"
      },
      "execution_count": null,
      "outputs": [
        {
          "output_type": "stream",
          "name": "stdout",
          "text": [
            "Unique Protocols:\n",
            "6.0\n",
            "17.0\n",
            "0.0\n",
            "nan\n"
          ]
        }
      ]
    },
    {
      "cell_type": "code",
      "source": [
        "\n",
        "#First column is row index\n",
        "df_protocol_sorted = df.sort_values(by=[\" Protocol\"], ascending=False)\n",
        "print(df_protocol_sorted[[\" Protocol\"]].head(10)) #index\n",
        "\n",
        "\n",
        "df_protocol_sorted = df.sort_values(by=[\" Destination Port\"], ascending=False)\n",
        "print(df_protocol_sorted[[\" Destination Port\"]].head(10))"
      ],
      "metadata": {
        "colab": {
          "base_uri": "https://localhost:8080/"
        },
        "id": "07r1HmXer79H",
        "outputId": "d9cbeb6b-61b2-440e-def9-e2262b2cab6c"
      },
      "execution_count": null,
      "outputs": [
        {
          "output_type": "stream",
          "name": "stdout",
          "text": [
            "         Protocol\n",
            "3119313      17.0\n",
            "3119315      17.0\n",
            "3119316      17.0\n",
            "3119328      17.0\n",
            "3117590      17.0\n",
            "3117591      17.0\n",
            "3117594      17.0\n",
            "3117595      17.0\n",
            "3117596      17.0\n",
            "3117597      17.0\n",
            "         Destination Port\n",
            "2352942           65535.0\n",
            "2036661           65534.0\n",
            "2229746           65534.0\n",
            "2413814           65534.0\n",
            "1936697           65534.0\n",
            "1692406           65533.0\n",
            "2036664           65533.0\n",
            "2305095           65533.0\n",
            "1936313           65533.0\n",
            "2719151           65532.0\n"
          ]
        }
      ]
    },
    {
      "cell_type": "code",
      "source": [
        "#addind/deleting columns\n",
        "\n",
        "# Add a new column that is Destination Port * 2\n",
        "df[\"Port_Double\"] = df[\" Destination Port\"] * 2\n",
        "\n",
        "# Add a column cycling through 1–10\n",
        "df[\"Fold\"] = (df.index % 10) + 1\n",
        "\n",
        "print(df[[\" Protocol\", \" Destination Port\", \"Fold\"]].head(20))\n"
      ],
      "metadata": {
        "colab": {
          "base_uri": "https://localhost:8080/"
        },
        "id": "qqtYvauIYoVH",
        "outputId": "c99a6f94-ddaa-49aa-eb6b-8a792dca3e44"
      },
      "execution_count": null,
      "outputs": [
        {
          "output_type": "stream",
          "name": "stdout",
          "text": [
            "     Protocol   Destination Port  Fold\n",
            "0         6.0               80.0     1\n",
            "1         6.0              389.0     2\n",
            "2         6.0               88.0     3\n",
            "3         6.0              389.0     4\n",
            "4         6.0               88.0     5\n",
            "5         6.0              389.0     6\n",
            "6         6.0               88.0     7\n",
            "7         6.0               80.0     8\n",
            "8         6.0            49666.0     9\n",
            "9         6.0            49413.0    10\n",
            "10        6.0               88.0     1\n",
            "11        6.0              389.0     2\n",
            "12        6.0             3268.0     3\n",
            "13        6.0              443.0     4\n",
            "14        6.0              443.0     5\n",
            "15        6.0            49666.0     6\n",
            "16        6.0              135.0     7\n",
            "17        6.0            49666.0     8\n",
            "18        6.0              135.0     9\n",
            "19        6.0            49441.0    10\n"
          ]
        }
      ]
    },
    {
      "cell_type": "markdown",
      "source": [
        "# Randomization"
      ],
      "metadata": {
        "id": "sTuPKekrd55p"
      }
    },
    {
      "cell_type": "code",
      "source": [
        "#randomization for stratification\n",
        "#df_shuffled = df.sample(frac=1, random_state=42).reset_index(drop=True) #random state 42 will make results random but repetitive might be good for testing before we go full random\n",
        "\n",
        "#This code should work however too much memory to execute\n",
        "\n",
        "n = len(df)\n",
        "folds = np.tile(np.arange(1, 11), int(np.ceil(n/10)))[:n]\n",
        "np.random.shuffle(folds)   # randomize order *in place*\n",
        "df[\"Fold\"] = folds\n",
        "print(df[[\" Protocol\", \" Destination Port\", \" Label\", \"Fold\"]].head(20))\n",
        "\n",
        "\n",
        "\n",
        "#check fold counts to make sure equal amount randomzied\n",
        "fold_counts = df[\"Fold\"].value_counts().sort_index()\n",
        "print(fold_counts)\n",
        "\n"
      ],
      "metadata": {
        "id": "WUyQETXDb301",
        "colab": {
          "base_uri": "https://localhost:8080/"
        },
        "outputId": "614263d3-f088-4552-8e79-d54b723af3a1"
      },
      "execution_count": null,
      "outputs": [
        {
          "output_type": "stream",
          "name": "stdout",
          "text": [
            "     Protocol   Destination Port   Label  Fold\n",
            "0         6.0               80.0  BENIGN     5\n",
            "1         6.0              389.0  BENIGN     3\n",
            "2         6.0               88.0  BENIGN     6\n",
            "3         6.0              389.0  BENIGN     6\n",
            "4         6.0               88.0  BENIGN    10\n",
            "5         6.0              389.0  BENIGN     1\n",
            "6         6.0               88.0  BENIGN     3\n",
            "7         6.0               80.0  BENIGN     3\n",
            "8         6.0            49666.0  BENIGN    10\n",
            "9         6.0            49413.0  BENIGN     7\n",
            "10        6.0               88.0  BENIGN     4\n",
            "11        6.0              389.0  BENIGN    10\n",
            "12        6.0             3268.0  BENIGN     5\n",
            "13        6.0              443.0  BENIGN     2\n",
            "14        6.0              443.0  BENIGN     1\n",
            "15        6.0            49666.0  BENIGN     1\n",
            "16        6.0              135.0  BENIGN     2\n",
            "17        6.0            49666.0  BENIGN     1\n",
            "18        6.0              135.0  BENIGN    10\n",
            "19        6.0            49441.0  BENIGN     9\n",
            "Fold\n",
            "1     311935\n",
            "2     311935\n",
            "3     311935\n",
            "4     311935\n",
            "5     311935\n",
            "6     311934\n",
            "7     311934\n",
            "8     311934\n",
            "9     311934\n",
            "10    311934\n",
            "Name: count, dtype: int64\n"
          ]
        }
      ]
    },
    {
      "cell_type": "code",
      "source": [
        "#Not randomized\n",
        "#\n",
        "# Add a new column that is Destination Port * 2\n",
        "df[\"Port_Double\"] = df[\" Destination Port\"] * 2\n",
        "\n",
        "# Add a column cycling through 1–10\n",
        "df[\"Fold\"] = (df.index % 10) + 1\n",
        "\n",
        "print(df[[\" Protocol\", \" Destination Port\", \"Port_Double\",\" Label\", \"Fold\"]].head(20))"
      ],
      "metadata": {
        "colab": {
          "base_uri": "https://localhost:8080/"
        },
        "id": "gN_EaBNShIvo",
        "outputId": "c6307d46-8ceb-497e-9f1d-8ee9ecf0be23"
      },
      "execution_count": null,
      "outputs": [
        {
          "output_type": "stream",
          "name": "stdout",
          "text": [
            "     Protocol   Destination Port  Port_Double   Label  Fold\n",
            "0         6.0               80.0        160.0  BENIGN     1\n",
            "1         6.0              389.0        778.0  BENIGN     2\n",
            "2         6.0               88.0        176.0  BENIGN     3\n",
            "3         6.0              389.0        778.0  BENIGN     4\n",
            "4         6.0               88.0        176.0  BENIGN     5\n",
            "5         6.0              389.0        778.0  BENIGN     6\n",
            "6         6.0               88.0        176.0  BENIGN     7\n",
            "7         6.0               80.0        160.0  BENIGN     8\n",
            "8         6.0            49666.0      99332.0  BENIGN     9\n",
            "9         6.0            49413.0      98826.0  BENIGN    10\n",
            "10        6.0               88.0        176.0  BENIGN     1\n",
            "11        6.0              389.0        778.0  BENIGN     2\n",
            "12        6.0             3268.0       6536.0  BENIGN     3\n",
            "13        6.0              443.0        886.0  BENIGN     4\n",
            "14        6.0              443.0        886.0  BENIGN     5\n",
            "15        6.0            49666.0      99332.0  BENIGN     6\n",
            "16        6.0              135.0        270.0  BENIGN     7\n",
            "17        6.0            49666.0      99332.0  BENIGN     8\n",
            "18        6.0              135.0        270.0  BENIGN     9\n",
            "19        6.0            49441.0      98882.0  BENIGN    10\n"
          ]
        }
      ]
    }
  ]
}