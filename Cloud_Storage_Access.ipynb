{
  "nbformat": 4,
  "nbformat_minor": 0,
  "metadata": {
    "colab": {
      "provenance": [],
      "machine_shape": "hm"
    },
    "kernelspec": {
      "name": "python3",
      "display_name": "Python 3"
    },
    "language_info": {
      "name": "python"
    }
  },
  "cells": [
    {
      "cell_type": "code",
      "source": [
        "import pandas as pd\n",
        "import requests\n",
        "import zipfile\n",
        "import io\n",
        "\n",
        "\n",
        "dfs = []\n",
        "FILE_DOWNLOAD_URL = \"https://storage.googleapis.com/netguard_bucket/raw_data/GeneratedLabelledFlows.zip\"\n",
        "response = requests.get(FILE_DOWNLOAD_URL)\n",
        "with zipfile.ZipFile(io.BytesIO(response.content)) as z:\n",
        "  # List all files in the ZIP\n",
        "  print(\"Files in ZIP:\", z.namelist())\n",
        "\n"
      ],
      "metadata": {
        "colab": {
          "base_uri": "https://localhost:8080/"
        },
        "id": "qXkTUa8csI-v",
        "outputId": "b1379f0c-c7c9-4d08-c3f5-91899a7e3a20"
      },
      "execution_count": 6,
      "outputs": [
        {
          "output_type": "stream",
          "name": "stdout",
          "text": [
            "Files in ZIP: ['TrafficLabelling /', 'TrafficLabelling /Wednesday-workingHours.pcap_ISCX.csv', 'TrafficLabelling /Tuesday-WorkingHours.pcap_ISCX.csv', 'TrafficLabelling /Thursday-WorkingHours-Morning-WebAttacks.pcap_ISCX.csv', 'TrafficLabelling /Thursday-WorkingHours-Afternoon-Infilteration.pcap_ISCX.csv', 'TrafficLabelling /Monday-WorkingHours.pcap_ISCX.csv', 'TrafficLabelling /Friday-WorkingHours-Morning.pcap_ISCX.csv', 'TrafficLabelling /Friday-WorkingHours-Afternoon-DDos.pcap_ISCX.csv', 'TrafficLabelling /Friday-WorkingHours-Afternoon-PortScan.pcap_ISCX.csv']\n"
          ]
        }
      ]
    },
    {
      "cell_type": "markdown",
      "source": [
        "Optional filtering. Use a common word like 'Traffic' to capture all files, or filter down to a specific day if desired."
      ],
      "metadata": {
        "id": "C19qmT4wy4UO"
      }
    },
    {
      "cell_type": "code",
      "source": [
        "target = 'Traffic'\n",
        "with zipfile.ZipFile(io.BytesIO(response.content)) as z:\n",
        "\n",
        "  for file in z.namelist()[1:]:\n",
        "    print(file)\n",
        "    if target in file:\n",
        "      print('Found target, adding to dfs')\n",
        "      with z.open(file) as f:\n",
        "        dfs.append(pd.read_csv(f, encoding='cp1252'))"
      ],
      "metadata": {
        "colab": {
          "base_uri": "https://localhost:8080/"
        },
        "id": "4LXkXmgwy2KJ",
        "outputId": "02c97aee-1388-4437-f3f8-c8a673ee7132"
      },
      "execution_count": 23,
      "outputs": [
        {
          "output_type": "stream",
          "name": "stdout",
          "text": [
            "TrafficLabelling /Wednesday-workingHours.pcap_ISCX.csv\n",
            "found target, adding to dfs\n",
            "TrafficLabelling /Tuesday-WorkingHours.pcap_ISCX.csv\n",
            "found target, adding to dfs\n",
            "TrafficLabelling /Thursday-WorkingHours-Morning-WebAttacks.pcap_ISCX.csv\n",
            "found target, adding to dfs\n"
          ]
        },
        {
          "output_type": "stream",
          "name": "stderr",
          "text": [
            "/tmp/ipython-input-518002518.py:9: DtypeWarning: Columns (0,1,3,6,84) have mixed types. Specify dtype option on import or set low_memory=False.\n",
            "  dfs.append(pd.read_csv(f, encoding='cp1252'))\n"
          ]
        },
        {
          "output_type": "stream",
          "name": "stdout",
          "text": [
            "TrafficLabelling /Thursday-WorkingHours-Afternoon-Infilteration.pcap_ISCX.csv\n",
            "found target, adding to dfs\n",
            "TrafficLabelling /Monday-WorkingHours.pcap_ISCX.csv\n",
            "found target, adding to dfs\n",
            "TrafficLabelling /Friday-WorkingHours-Morning.pcap_ISCX.csv\n",
            "found target, adding to dfs\n",
            "TrafficLabelling /Friday-WorkingHours-Afternoon-DDos.pcap_ISCX.csv\n",
            "found target, adding to dfs\n",
            "TrafficLabelling /Friday-WorkingHours-Afternoon-PortScan.pcap_ISCX.csv\n",
            "found target, adding to dfs\n"
          ]
        }
      ]
    },
    {
      "cell_type": "markdown",
      "source": [
        "Once you are confident that you have the correct target files, convert them to a dataframe"
      ],
      "metadata": {
        "id": "y0ZPNeyJ_AsA"
      }
    },
    {
      "cell_type": "code",
      "source": [
        "df = pd.concat(dfs, ignore_index=True)\n",
        "print(df.shape)\n",
        "print(df.head())"
      ],
      "metadata": {
        "colab": {
          "base_uri": "https://localhost:8080/"
        },
        "id": "BYVCpbMYuaTN",
        "outputId": "ac750583-6755-49ab-9343-f5db3c3e9faa"
      },
      "execution_count": 24,
      "outputs": [
        {
          "output_type": "stream",
          "name": "stdout",
          "text": [
            "(18131285, 85)\n",
            "                                  Flow ID      Source IP   Source Port  \\\n",
            "0  192.168.10.14-209.48.71.168-49459-80-6  192.168.10.14       49459.0   \n",
            "1  192.168.10.3-192.168.10.17-389-49453-6  192.168.10.17       49453.0   \n",
            "2   192.168.10.3-192.168.10.17-88-46124-6  192.168.10.17       46124.0   \n",
            "3  192.168.10.3-192.168.10.17-389-49454-6  192.168.10.17       49454.0   \n",
            "4   192.168.10.3-192.168.10.17-88-46126-6  192.168.10.17       46126.0   \n",
            "\n",
            "   Destination IP   Destination Port   Protocol      Timestamp  \\\n",
            "0   209.48.71.168               80.0        6.0  5/7/2017 8:42   \n",
            "1    192.168.10.3              389.0        6.0  5/7/2017 8:42   \n",
            "2    192.168.10.3               88.0        6.0  5/7/2017 8:42   \n",
            "3    192.168.10.3              389.0        6.0  5/7/2017 8:42   \n",
            "4    192.168.10.3               88.0        6.0  5/7/2017 8:42   \n",
            "\n",
            "    Flow Duration   Total Fwd Packets   Total Backward Packets  ...  \\\n",
            "0         38308.0                 1.0                      1.0  ...   \n",
            "1           479.0                11.0                      5.0  ...   \n",
            "2          1095.0                10.0                      6.0  ...   \n",
            "3         15206.0                17.0                     12.0  ...   \n",
            "4          1092.0                 9.0                      6.0  ...   \n",
            "\n",
            "    min_seg_size_forward  Active Mean   Active Std   Active Max   Active Min  \\\n",
            "0                   20.0          0.0          0.0          0.0          0.0   \n",
            "1                   32.0          0.0          0.0          0.0          0.0   \n",
            "2                   32.0          0.0          0.0          0.0          0.0   \n",
            "3                   32.0          0.0          0.0          0.0          0.0   \n",
            "4                   32.0          0.0          0.0          0.0          0.0   \n",
            "\n",
            "   Idle Mean   Idle Std   Idle Max   Idle Min   Label  \n",
            "0        0.0        0.0        0.0        0.0  BENIGN  \n",
            "1        0.0        0.0        0.0        0.0  BENIGN  \n",
            "2        0.0        0.0        0.0        0.0  BENIGN  \n",
            "3        0.0        0.0        0.0        0.0  BENIGN  \n",
            "4        0.0        0.0        0.0        0.0  BENIGN  \n",
            "\n",
            "[5 rows x 85 columns]\n"
          ]
        }
      ]
    }
  ]
}