{
  "cells": [
    {
      "cell_type": "markdown",
      "metadata": {},
      "source": [
        "Basic import of all csv data via zip file from Google Cloud Storage"
      ]
    },
    {
      "cell_type": "code",
      "execution_count": null,
      "metadata": {
        "colab": {
          "base_uri": "https://localhost:8080/"
        },
        "id": "qXkTUa8csI-v",
        "outputId": "b1379f0c-c7c9-4d08-c3f5-91899a7e3a20"
      },
      "outputs": [],
      "source": [
        "import pandas as pd\n",
        "import requests\n",
        "import zipfile\n",
        "import io\n",
        "\n",
        "\n",
        "dfs = []\n",
        "FILE_DOWNLOAD_URL = \"https://storage.googleapis.com/netguard_bucket/raw_data/GeneratedLabelledFlows.zip\"\n",
        "response = requests.get(FILE_DOWNLOAD_URL)\n",
        "with zipfile.ZipFile(io.BytesIO(response.content)) as z:\n",
        "  # List all files in the ZIP\n",
        "  print(\"Files in ZIP:\", z.namelist())\n",
        "\n"
      ]
    },
    {
      "cell_type": "markdown",
      "metadata": {
        "id": "C19qmT4wy4UO"
      },
      "source": [
        "Optional filtering. Use a common word like 'Traffic' to capture all files, or filter down to a specific day if desired."
      ]
    },
    {
      "cell_type": "code",
      "execution_count": null,
      "metadata": {
        "colab": {
          "base_uri": "https://localhost:8080/"
        },
        "id": "4LXkXmgwy2KJ",
        "outputId": "02c97aee-1388-4437-f3f8-c8a673ee7132"
      },
      "outputs": [],
      "source": [
        "target = 'Traffic'\n",
        "with zipfile.ZipFile(io.BytesIO(response.content)) as z:\n",
        "\n",
        "  for file in z.namelist()[1:]:\n",
        "    print(file)\n",
        "    if target in file:\n",
        "      print('Found target, adding to dfs')\n",
        "      with z.open(file) as f:\n",
        "        dfs.append(pd.read_csv(f, encoding='cp1252'))\n",
        "\n",
        "        "
      ]
    },
    {
      "cell_type": "markdown",
      "metadata": {
        "id": "y0ZPNeyJ_AsA"
      },
      "source": [
        "Once you are confident that you have the correct target files, convert them to a dataframe"
      ]
    },
    {
      "cell_type": "code",
      "execution_count": null,
      "metadata": {
        "colab": {
          "base_uri": "https://localhost:8080/"
        },
        "id": "BYVCpbMYuaTN",
        "outputId": "ac750583-6755-49ab-9343-f5db3c3e9faa"
      },
      "outputs": [],
      "source": [
        "df = pd.concat(dfs, ignore_index=True)\n",
        "print(df.shape)\n",
        "print(df.head())\n",
        "\n"
      ]
    }
  ],
  "metadata": {
    "colab": {
      "machine_shape": "hm",
      "provenance": []
    },
    "kernelspec": {
      "display_name": "Python 3",
      "name": "python3"
    },
    "language_info": {
      "name": "python"
    }
  },
  "nbformat": 4,
  "nbformat_minor": 0
}
